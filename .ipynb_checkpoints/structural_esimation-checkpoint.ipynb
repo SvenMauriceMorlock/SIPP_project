{
 "cells": [
  {
   "cell_type": "markdown",
   "id": "certified-influence",
   "metadata": {},
   "source": [
    "# Structural Estimation of Risk Prefrences in Health Insurance"
   ]
  },
  {
   "cell_type": "markdown",
   "id": "needed-customs",
   "metadata": {},
   "source": [
    "## 1.1 Data Wrangling"
   ]
  },
  {
   "cell_type": "markdown",
   "id": "substantial-export",
   "metadata": {},
   "source": [
    "#### load packages and set variables (based on [webpage python pandas code](https://www2.census.gov/programs-surveys/sipp/data/datasets/2018/sipp_python_input_example.py))"
   ]
  },
  {
   "cell_type": "code",
   "execution_count": null,
   "id": "extensive-hospital",
   "metadata": {},
   "outputs": [],
   "source": [
    "import numpy as np\n",
    "import pandas as pd\n",
    "import statstools"
   ]
  },
  {
   "cell_type": "code",
   "execution_count": 4,
   "id": "painted-premiere",
   "metadata": {},
   "outputs": [],
   "source": [
    "path_data = \"~/06_data\"\n",
    "columns = []"
   ]
  },
  {
   "cell_type": "markdown",
   "id": "presidential-notice",
   "metadata": {},
   "source": [
    "#### import schema and data <br>(depending how many columns are taken this may take considerable time!)"
   ]
  },
  {
   "cell_type": "code",
   "execution_count": 14,
   "id": "liable-technique",
   "metadata": {},
   "outputs": [],
   "source": [
    "rd_schema = pd.read_json(path_data + '/' + 'pu2018_schema.json') #  data-type\n",
    "rw_schema = pd.read_json(path_data + '/' + 'rw2018_schema.json') #  replicate weight\n",
    "rd_schema['dtype'] = ['Int64' if x == 'integer' \\\n",
    "    else 'object' if x == 'string' \\\n",
    "    else 'Float64' if x == 'float' \\\n",
    "    else 'ERROR' \\\n",
    "    for x in rd_schema['dtype']]\n",
    "\n",
    "rw_schema['dtype'] = ['Int64' if x == 'integer' \\\n",
    "    else 'object' if x == 'string' \\\n",
    "    else 'Float64' if x == 'float' \\\n",
    "    else 'ERROR' \\\n",
    "    for x in rw_schema['dtype']]\n",
    "##################################################################################################################\n",
    "df_data = pd.read_csv(path_data + '/' + \"pu2018.csv\",\\\n",
    "    names=rd_schema['name'],\\\n",
    "    #dtype expects a dictionary of key:values\n",
    "    dtype = dict([(i,v) for i,v in zip(rd_schema['name'], rd_schema['dtype'])]),\\\n",
    "    #files are pipe-delimited\n",
    "    sep='|',\\\n",
    "    header=0,\\\n",
    "    #Add variables for analysis here. If you receive an out-of-memory error,\n",
    "    #either select less columns, or consider using the Dask module\n",
    "    usecols = [\n",
    "    #Common case-identification variables\n",
    "    'SSUID','PNUM','MONTHCODE','ERESIDENCEID','ERELRPE','SPANEL','SWAVE',\\\n",
    "    #The base weight and monthly in-survey-universe indicator\n",
    "    'WPFINWGT','RIN_UNIV',\\\n",
    "    #Common demographics variables, including age at time of interview (TAGE)\n",
    "    #and monthly age during the reference period (TAGE_EHC)\n",
    "    'ESEX','TAGE','TAGE_EHC','ERACE','EORIGIN','EEDUC',\\\n",
    "    #Additional variables for analysis\n",
    "    'TPTOTINC','RTANF_MNYN'\\\n",
    "    ]\n",
    ")"
   ]
  }
 ],
 "metadata": {
  "kernelspec": {
   "display_name": "Python 3",
   "language": "python",
   "name": "python3"
  },
  "language_info": {
   "codemirror_mode": {
    "name": "ipython",
    "version": 3
   },
   "file_extension": ".py",
   "mimetype": "text/x-python",
   "name": "python",
   "nbconvert_exporter": "python",
   "pygments_lexer": "ipython3",
   "version": "3.7.6"
  }
 },
 "nbformat": 4,
 "nbformat_minor": 5
}
